{
 "cells": [
  {
   "cell_type": "markdown",
   "metadata": {},
   "source": [
    "# WIDS 2021 - Identificação de pacientes com diabetes em UTIs"
   ]
  },
  {
   "cell_type": "markdown",
   "metadata": {},
   "source": [
    "## Tratamento dos dados"
   ]
  },
  {
   "cell_type": "code",
   "execution_count": 1,
   "metadata": {},
   "outputs": [],
   "source": [
    "import pandas as pd\n",
    "import seaborn as sns\n",
    "import matplotlib.pyplot as plt\n",
    "import numpy as np"
   ]
  },
  {
   "cell_type": "code",
   "execution_count": 2,
   "metadata": {},
   "outputs": [],
   "source": [
    "%matplotlib inline"
   ]
  },
  {
   "cell_type": "code",
   "execution_count": null,
   "metadata": {},
   "outputs": [],
   "source": [
    "colunas = ['age', 'bmi', 'ethnicity', 'gender', 'height', 'weight', 'apache_3j_diagnosis', 'arf_apache',\n",
    "           'd1_albumin_max', 'd1_albumin_min', 'd1_bilirubin_max', 'd1_bilirubin_min', 'd1_creatinine_max', \n",
    "           'd1_creatinine_min', 'd1_glucose_max', 'd1_glucose_min','d1_hemaglobin_max', 'd1_hemaglobin_min', \n",
    "           'diabetes_mellitus']"
   ]
  },
  {
   "cell_type": "code",
   "execution_count": null,
   "metadata": {},
   "outputs": [],
   "source": [
    "colunas2 = ['age', 'bmi', 'ethnicity', 'gender', 'height', 'weight', 'hepatic_failure', 'apache_3j_diagnosis', 'arf_apache',\n",
    "            'd1_albumin_max', 'd1_albumin_min', 'd1_bilirubin_max', 'd1_bilirubin_min',\n",
    "            'd1_creatinine_max','d1_creatinine_min', 'd1_glucose_max', 'd1_glucose_min',\n",
    "            'd1_hemaglobin_max', 'd1_hemaglobin_min', 'd1_mbp_max', 'd1_mbp_min', 'diabetes_mellitus']"
   ]
  },
  {
   "cell_type": "code",
   "execution_count": 3,
   "metadata": {},
   "outputs": [],
   "source": [
    "colunas3 = ['age', 'bmi', 'ethnicity', 'gender', 'height', 'weight', 'hepatic_failure', 'apache_3j_diagnosis', \n",
    "            'arf_apache', 'd1_creatinine_max', 'd1_albumin_max', 'd1_bilirubin_max', 'd1_glucose_max', 'd1_hemaglobin_max',\n",
    "            'd1_sysbp_max', 'gcs_eyes_apache', 'cirrhosis', 'urineoutput_apache', 'diabetes_mellitus']"
   ]
  },
  {
   "cell_type": "code",
   "execution_count": 4,
   "metadata": {},
   "outputs": [],
   "source": [
    "df_train = pd.read_csv('TrainingWiDS2021.csv', usecols=colunas3)"
   ]
  },
  {
   "cell_type": "code",
   "execution_count": null,
   "metadata": {},
   "outputs": [],
   "source": [
    "# Removendo colunas que não serão usadas\n",
    "#for i in df_train.columns.tolist():\n",
    "   #  if i not in colunas: df_train.drop(i, axis=1, inplace=True)"
   ]
  },
  {
   "cell_type": "code",
   "execution_count": 5,
   "metadata": {},
   "outputs": [
    {
     "data": {
      "text/plain": [
       "(130157, 19)"
      ]
     },
     "execution_count": 5,
     "metadata": {},
     "output_type": "execute_result"
    }
   ],
   "source": [
    "df_train.shape"
   ]
  },
  {
   "cell_type": "code",
   "execution_count": 6,
   "metadata": {},
   "outputs": [
    {
     "name": "stdout",
     "output_type": "stream",
     "text": [
      "<class 'pandas.core.frame.DataFrame'>\n",
      "RangeIndex: 130157 entries, 0 to 130156\n",
      "Data columns (total 19 columns):\n",
      "age                    125169 non-null float64\n",
      "bmi                    125667 non-null float64\n",
      "ethnicity              128570 non-null object\n",
      "gender                 130091 non-null object\n",
      "height                 128080 non-null float64\n",
      "weight                 126694 non-null float64\n",
      "apache_3j_diagnosis    129292 non-null float64\n",
      "arf_apache             130157 non-null int64\n",
      "gcs_eyes_apache        127967 non-null float64\n",
      "urineoutput_apache     66990 non-null float64\n",
      "d1_sysbp_max           129886 non-null float64\n",
      "d1_albumin_max         58751 non-null float64\n",
      "d1_bilirubin_max       53422 non-null float64\n",
      "d1_creatinine_max      116884 non-null float64\n",
      "d1_glucose_max         121914 non-null float64\n",
      "d1_hemaglobin_max      113925 non-null float64\n",
      "cirrhosis              130157 non-null int64\n",
      "hepatic_failure        130157 non-null int64\n",
      "diabetes_mellitus      130157 non-null int64\n",
      "dtypes: float64(13), int64(4), object(2)\n",
      "memory usage: 18.9+ MB\n"
     ]
    }
   ],
   "source": [
    "df_train.info()"
   ]
  },
  {
   "cell_type": "code",
   "execution_count": 7,
   "metadata": {},
   "outputs": [
    {
     "data": {
      "text/plain": [
       "age                    125169\n",
       "bmi                    125667\n",
       "ethnicity              128570\n",
       "gender                 130091\n",
       "height                 128080\n",
       "weight                 126694\n",
       "apache_3j_diagnosis    129292\n",
       "arf_apache             130157\n",
       "gcs_eyes_apache        127967\n",
       "urineoutput_apache      66990\n",
       "d1_sysbp_max           129886\n",
       "d1_albumin_max          58751\n",
       "d1_bilirubin_max        53422\n",
       "d1_creatinine_max      116884\n",
       "d1_glucose_max         121914\n",
       "d1_hemaglobin_max      113925\n",
       "cirrhosis              130157\n",
       "hepatic_failure        130157\n",
       "diabetes_mellitus      130157\n",
       "dtype: int64"
      ]
     },
     "execution_count": 7,
     "metadata": {},
     "output_type": "execute_result"
    }
   ],
   "source": [
    "df_train.count()"
   ]
  },
  {
   "cell_type": "code",
   "execution_count": 8,
   "metadata": {},
   "outputs": [],
   "source": [
    "# Preenchendo peso e altura pelos valores medios\n",
    "df_train['weight'].fillna(df_train['weight'].mean(), inplace=True)\n",
    "df_train['height'].fillna(df_train['height'].mean(), inplace=True)"
   ]
  },
  {
   "cell_type": "code",
   "execution_count": 9,
   "metadata": {},
   "outputs": [
    {
     "data": {
      "text/html": [
       "<div>\n",
       "<style scoped>\n",
       "    .dataframe tbody tr th:only-of-type {\n",
       "        vertical-align: middle;\n",
       "    }\n",
       "\n",
       "    .dataframe tbody tr th {\n",
       "        vertical-align: top;\n",
       "    }\n",
       "\n",
       "    .dataframe thead th {\n",
       "        text-align: right;\n",
       "    }\n",
       "</style>\n",
       "<table border=\"1\" class=\"dataframe\">\n",
       "  <thead>\n",
       "    <tr style=\"text-align: right;\">\n",
       "      <th></th>\n",
       "      <th>age</th>\n",
       "      <th>bmi</th>\n",
       "      <th>ethnicity</th>\n",
       "      <th>gender</th>\n",
       "      <th>height</th>\n",
       "      <th>weight</th>\n",
       "      <th>apache_3j_diagnosis</th>\n",
       "      <th>arf_apache</th>\n",
       "      <th>gcs_eyes_apache</th>\n",
       "      <th>urineoutput_apache</th>\n",
       "      <th>d1_sysbp_max</th>\n",
       "      <th>d1_albumin_max</th>\n",
       "      <th>d1_bilirubin_max</th>\n",
       "      <th>d1_creatinine_max</th>\n",
       "      <th>d1_glucose_max</th>\n",
       "      <th>d1_hemaglobin_max</th>\n",
       "      <th>cirrhosis</th>\n",
       "      <th>hepatic_failure</th>\n",
       "      <th>diabetes_mellitus</th>\n",
       "    </tr>\n",
       "  </thead>\n",
       "  <tbody>\n",
       "    <tr>\n",
       "      <th>0</th>\n",
       "      <td>68.0</td>\n",
       "      <td>22.732803</td>\n",
       "      <td>Caucasian</td>\n",
       "      <td>M</td>\n",
       "      <td>180.3</td>\n",
       "      <td>73.900000</td>\n",
       "      <td>502.01</td>\n",
       "      <td>0</td>\n",
       "      <td>3.0</td>\n",
       "      <td>NaN</td>\n",
       "      <td>131.0</td>\n",
       "      <td>2.3</td>\n",
       "      <td>0.4</td>\n",
       "      <td>2.51</td>\n",
       "      <td>168.0</td>\n",
       "      <td>8.9</td>\n",
       "      <td>0</td>\n",
       "      <td>0</td>\n",
       "      <td>1</td>\n",
       "    </tr>\n",
       "    <tr>\n",
       "      <th>1</th>\n",
       "      <td>77.0</td>\n",
       "      <td>27.421875</td>\n",
       "      <td>Caucasian</td>\n",
       "      <td>F</td>\n",
       "      <td>160.0</td>\n",
       "      <td>70.200000</td>\n",
       "      <td>203.01</td>\n",
       "      <td>0</td>\n",
       "      <td>1.0</td>\n",
       "      <td>NaN</td>\n",
       "      <td>159.0</td>\n",
       "      <td>1.6</td>\n",
       "      <td>0.5</td>\n",
       "      <td>0.71</td>\n",
       "      <td>145.0</td>\n",
       "      <td>11.3</td>\n",
       "      <td>0</td>\n",
       "      <td>0</td>\n",
       "      <td>1</td>\n",
       "    </tr>\n",
       "    <tr>\n",
       "      <th>2</th>\n",
       "      <td>25.0</td>\n",
       "      <td>31.952749</td>\n",
       "      <td>Caucasian</td>\n",
       "      <td>F</td>\n",
       "      <td>172.7</td>\n",
       "      <td>95.300000</td>\n",
       "      <td>703.03</td>\n",
       "      <td>0</td>\n",
       "      <td>3.0</td>\n",
       "      <td>NaN</td>\n",
       "      <td>148.0</td>\n",
       "      <td>NaN</td>\n",
       "      <td>NaN</td>\n",
       "      <td>NaN</td>\n",
       "      <td>NaN</td>\n",
       "      <td>NaN</td>\n",
       "      <td>0</td>\n",
       "      <td>0</td>\n",
       "      <td>0</td>\n",
       "    </tr>\n",
       "    <tr>\n",
       "      <th>3</th>\n",
       "      <td>81.0</td>\n",
       "      <td>22.635548</td>\n",
       "      <td>Caucasian</td>\n",
       "      <td>F</td>\n",
       "      <td>165.1</td>\n",
       "      <td>61.700000</td>\n",
       "      <td>1206.03</td>\n",
       "      <td>0</td>\n",
       "      <td>4.0</td>\n",
       "      <td>NaN</td>\n",
       "      <td>158.0</td>\n",
       "      <td>NaN</td>\n",
       "      <td>NaN</td>\n",
       "      <td>NaN</td>\n",
       "      <td>185.0</td>\n",
       "      <td>11.6</td>\n",
       "      <td>0</td>\n",
       "      <td>0</td>\n",
       "      <td>0</td>\n",
       "    </tr>\n",
       "    <tr>\n",
       "      <th>4</th>\n",
       "      <td>19.0</td>\n",
       "      <td>NaN</td>\n",
       "      <td>Caucasian</td>\n",
       "      <td>M</td>\n",
       "      <td>188.0</td>\n",
       "      <td>83.791104</td>\n",
       "      <td>601.01</td>\n",
       "      <td>0</td>\n",
       "      <td>NaN</td>\n",
       "      <td>NaN</td>\n",
       "      <td>147.0</td>\n",
       "      <td>NaN</td>\n",
       "      <td>NaN</td>\n",
       "      <td>NaN</td>\n",
       "      <td>NaN</td>\n",
       "      <td>NaN</td>\n",
       "      <td>0</td>\n",
       "      <td>0</td>\n",
       "      <td>0</td>\n",
       "    </tr>\n",
       "  </tbody>\n",
       "</table>\n",
       "</div>"
      ],
      "text/plain": [
       "    age        bmi  ethnicity gender  height     weight  apache_3j_diagnosis  \\\n",
       "0  68.0  22.732803  Caucasian      M   180.3  73.900000               502.01   \n",
       "1  77.0  27.421875  Caucasian      F   160.0  70.200000               203.01   \n",
       "2  25.0  31.952749  Caucasian      F   172.7  95.300000               703.03   \n",
       "3  81.0  22.635548  Caucasian      F   165.1  61.700000              1206.03   \n",
       "4  19.0        NaN  Caucasian      M   188.0  83.791104               601.01   \n",
       "\n",
       "   arf_apache  gcs_eyes_apache  urineoutput_apache  d1_sysbp_max  \\\n",
       "0           0              3.0                 NaN         131.0   \n",
       "1           0              1.0                 NaN         159.0   \n",
       "2           0              3.0                 NaN         148.0   \n",
       "3           0              4.0                 NaN         158.0   \n",
       "4           0              NaN                 NaN         147.0   \n",
       "\n",
       "   d1_albumin_max  d1_bilirubin_max  d1_creatinine_max  d1_glucose_max  \\\n",
       "0             2.3               0.4               2.51           168.0   \n",
       "1             1.6               0.5               0.71           145.0   \n",
       "2             NaN               NaN                NaN             NaN   \n",
       "3             NaN               NaN                NaN           185.0   \n",
       "4             NaN               NaN                NaN             NaN   \n",
       "\n",
       "   d1_hemaglobin_max  cirrhosis  hepatic_failure  diabetes_mellitus  \n",
       "0                8.9          0                0                  1  \n",
       "1               11.3          0                0                  1  \n",
       "2                NaN          0                0                  0  \n",
       "3               11.6          0                0                  0  \n",
       "4                NaN          0                0                  0  "
      ]
     },
     "execution_count": 9,
     "metadata": {},
     "output_type": "execute_result"
    }
   ],
   "source": [
    "df_train.head()"
   ]
  },
  {
   "cell_type": "code",
   "execution_count": 10,
   "metadata": {},
   "outputs": [],
   "source": [
    "#Atualizando o valor do bmi, com cálculo de valores\n",
    "df_train['bmi'] = df_train['weight'] / (df_train['height'] * df_train['height'])"
   ]
  },
  {
   "cell_type": "code",
   "execution_count": 11,
   "metadata": {},
   "outputs": [
    {
     "data": {
      "image/png": "[encoded data removed]",
      "text/plain": [
       "<Figure size 720x360 with 1 Axes>"
      ]
     },
     "metadata": {
      "needs_background": "light"
     },
     "output_type": "display_data"
    }
   ],
   "source": [
    "#Avaliando a distribuição de ethnicity, gender e age\n",
    "f, ax = plt.subplots(figsize=(10, 5))\n",
    "ax = sns.countplot(x=\"ethnicity\", data=df_train)"
   ]
  },
  {
   "cell_type": "code",
   "execution_count": 12,
   "metadata": {},
   "outputs": [],
   "source": [
    "df_train['ethnicity'].fillna('Caucasian', inplace=True)\n",
    "df_train['gender'].fillna('M', inplace=True)"
   ]
  },
  {
   "cell_type": "code",
   "execution_count": 13,
   "metadata": {},
   "outputs": [],
   "source": [
    "### Tratando os dados, substituindo valores nulos pela média ou pelos valores de referencia\n",
    "df_train['age'].fillna(df_train['age'].mean(), inplace=True)\n",
    "df_train['d1_sysbp_max'].fillna(df_train['d1_sysbp_max'].mean(), inplace=True)\n",
    "#df_train['d1_mbp_min'].fillna(df_train['d1_mbp_min'].mean(), inplace=True)\n",
    "df_train['apache_3j_diagnosis'].fillna(df_train['apache_3j_diagnosis'].mean(), inplace=True)\n",
    "df_train['urineoutput_apache'].fillna(df_train['urineoutput_apache'].mean(), inplace=True)\n",
    "df_train['gcs_eyes_apache'].fillna(df_train['gcs_eyes_apache'].mean(), inplace=True)\n",
    "\n",
    "\n",
    "#df_train['d1_hemaglobin_min'].fillna(df_train['d1_hemaglobin_min'].mean(), inplace=True)\n",
    "df_train['d1_hemaglobin_max'].fillna(df_train['d1_hemaglobin_max'].mean(), inplace=True)\n",
    "\n",
    "# Albumina: 35 – 54 g/L\n",
    "#df_train['d1_albumin_min'].fillna(35, inplace=True)\n",
    "df_train['d1_albumin_max'].fillna(54, inplace=True)\n",
    "                                           \n",
    "# Bilirrubina: 5.1 – 20.5 mcmol/L\n",
    "#df_train['d1_bilirubin_min'].fillna(5.1, inplace=True)\n",
    "df_train['d1_bilirubin_max'].fillna(20.5, inplace=True)\n"
   ]
  },
  {
   "cell_type": "code",
   "execution_count": 14,
   "metadata": {},
   "outputs": [],
   "source": [
    "# Preenche campo de acordo com valores de referencia diferentes por sexo\n",
    "# Formas de avaliar campos nulos pd.isnull(linha['d1_creatinine_max']) ou np.isnan(linha['d1_creatinine_min'])\n",
    "\n",
    "# Creatinina μmol/L: M: 60-110 e F: 45-90\n",
    "for indice, linha in df_train.iterrows():\n",
    "    #if (linha['gender']=='M') and (pd.isnull(linha['d1_creatinine_min'])):\n",
    "      #  df_train.at[indice , 'd1_creatinine_min'] = 60.0\n",
    "    # elif (linha['gender']=='F') and (pd.isnull(linha['d1_creatinine_min'])): \n",
    "    #    df_train.at[indice , 'd1_creatinine_min'] = 45.0\n",
    "    if (linha['gender']=='M') and (pd.isnull(linha['d1_creatinine_max'])): \n",
    "        df_train.at[indice , 'd1_creatinine_max'] = 100.0\n",
    "    elif (linha['gender']=='F') and (pd.isnull(linha['d1_creatinine_max'])): \n",
    "        df_train.at[indice , 'd1_creatinine_max'] = 90.0"
   ]
  },
  {
   "cell_type": "code",
   "execution_count": 15,
   "metadata": {},
   "outputs": [],
   "source": [
    "# Glicose g/L: Masculino 140–170 e Feminino 120–160\n",
    "for indice, linha in df_train.iterrows():\n",
    "   # if (linha['gender']=='M') and (pd.isnull(linha['d1_glucose_min'])): \n",
    "   #     df_train.at[indice ,'d1_glucose_min']=140\n",
    "   # elif (linha['gender']=='F') and (pd.isnull(linha['d1_glucose_min'])): \n",
    "   #     df_train.at[indice ,'d1_glucose_min']=120\n",
    "    if (linha['gender']=='M') and (pd.isnull(linha['d1_glucose_max'])): \n",
    "        df_train.at[indice ,'d1_glucose_max']=170\n",
    "    elif (linha['gender']=='F') and (pd.isnull(linha['d1_glucose_max'])): \n",
    "        df_train.at[indice ,'d1_glucose_max']=160\n",
    "    "
   ]
  },
  {
   "cell_type": "code",
   "execution_count": 16,
   "metadata": {},
   "outputs": [
    {
     "data": {
      "text/plain": [
       "age                    130157\n",
       "bmi                    130157\n",
       "ethnicity              130157\n",
       "gender                 130157\n",
       "height                 130157\n",
       "weight                 130157\n",
       "apache_3j_diagnosis    130157\n",
       "arf_apache             130157\n",
       "gcs_eyes_apache        130157\n",
       "urineoutput_apache     130157\n",
       "d1_sysbp_max           130157\n",
       "d1_albumin_max         130157\n",
       "d1_bilirubin_max       130157\n",
       "d1_creatinine_max      130157\n",
       "d1_glucose_max         130157\n",
       "d1_hemaglobin_max      130157\n",
       "cirrhosis              130157\n",
       "hepatic_failure        130157\n",
       "diabetes_mellitus      130157\n",
       "dtype: int64"
      ]
     },
     "execution_count": 16,
     "metadata": {},
     "output_type": "execute_result"
    }
   ],
   "source": [
    "df_train.count()"
   ]
  },
  {
   "cell_type": "code",
   "execution_count": 17,
   "metadata": {},
   "outputs": [],
   "source": [
    "#Importando bibliotecas de pre-processadores, modelo e analise\n",
    "from sklearn.preprocessing import LabelEncoder\n",
    "from imblearn.over_sampling import SMOTE\n",
    "\n",
    "from sklearn.model_selection import GridSearchCV\n",
    "from sklearn.model_selection import cross_val_predict\n",
    "from sklearn.model_selection import train_test_split\n",
    "\n",
    "from lightgbm import LGBMClassifier\n",
    "#from xgboost import XGBClassifier\n",
    "\n",
    "from sklearn.metrics import classification_report\n",
    "from sklearn.metrics import confusion_matrix\n",
    "from sklearn.metrics import mean_squared_error\n",
    "from sklearn.metrics import accuracy_score\n",
    "from sklearn.metrics import recall_score\n",
    "from sklearn.metrics import f1_score\n",
    "from sklearn.metrics import roc_auc_score, cohen_kappa_score\n"
   ]
  },
  {
   "cell_type": "code",
   "execution_count": 18,
   "metadata": {},
   "outputs": [],
   "source": [
    "enc = LabelEncoder()"
   ]
  },
  {
   "cell_type": "code",
   "execution_count": 19,
   "metadata": {},
   "outputs": [],
   "source": [
    "sexo = enc.fit_transform(df_train['gender'])\n",
    "raca = enc.fit_transform(df_train['ethnicity'])"
   ]
  },
  {
   "cell_type": "code",
   "execution_count": 20,
   "metadata": {},
   "outputs": [],
   "source": [
    "df_train['gender'] = sexo\n",
    "df_train['ethnicity'] = raca"
   ]
  },
  {
   "cell_type": "code",
   "execution_count": 21,
   "metadata": {},
   "outputs": [
    {
     "data": {
      "text/html": [
       "<div>\n",
       "<style scoped>\n",
       "    .dataframe tbody tr th:only-of-type {\n",
       "        vertical-align: middle;\n",
       "    }\n",
       "\n",
       "    .dataframe tbody tr th {\n",
       "        vertical-align: top;\n",
       "    }\n",
       "\n",
       "    .dataframe thead th {\n",
       "        text-align: right;\n",
       "    }\n",
       "</style>\n",
       "<table border=\"1\" class=\"dataframe\">\n",
       "  <thead>\n",
       "    <tr style=\"text-align: right;\">\n",
       "      <th></th>\n",
       "      <th>age</th>\n",
       "      <th>bmi</th>\n",
       "      <th>ethnicity</th>\n",
       "      <th>gender</th>\n",
       "      <th>height</th>\n",
       "      <th>weight</th>\n",
       "      <th>apache_3j_diagnosis</th>\n",
       "      <th>arf_apache</th>\n",
       "      <th>gcs_eyes_apache</th>\n",
       "      <th>urineoutput_apache</th>\n",
       "      <th>d1_sysbp_max</th>\n",
       "      <th>d1_albumin_max</th>\n",
       "      <th>d1_bilirubin_max</th>\n",
       "      <th>d1_creatinine_max</th>\n",
       "      <th>d1_glucose_max</th>\n",
       "      <th>d1_hemaglobin_max</th>\n",
       "      <th>cirrhosis</th>\n",
       "      <th>hepatic_failure</th>\n",
       "      <th>diabetes_mellitus</th>\n",
       "    </tr>\n",
       "  </thead>\n",
       "  <tbody>\n",
       "    <tr>\n",
       "      <th>0</th>\n",
       "      <td>68.0</td>\n",
       "      <td>0.002273</td>\n",
       "      <td>2</td>\n",
       "      <td>1</td>\n",
       "      <td>180.3</td>\n",
       "      <td>73.900000</td>\n",
       "      <td>502.01</td>\n",
       "      <td>0</td>\n",
       "      <td>3.00000</td>\n",
       "      <td>1800.803417</td>\n",
       "      <td>131.0</td>\n",
       "      <td>2.3</td>\n",
       "      <td>0.4</td>\n",
       "      <td>2.51</td>\n",
       "      <td>168.0</td>\n",
       "      <td>8.90000</td>\n",
       "      <td>0</td>\n",
       "      <td>0</td>\n",
       "      <td>1</td>\n",
       "    </tr>\n",
       "    <tr>\n",
       "      <th>1</th>\n",
       "      <td>77.0</td>\n",
       "      <td>0.002742</td>\n",
       "      <td>2</td>\n",
       "      <td>0</td>\n",
       "      <td>160.0</td>\n",
       "      <td>70.200000</td>\n",
       "      <td>203.01</td>\n",
       "      <td>0</td>\n",
       "      <td>1.00000</td>\n",
       "      <td>1800.803417</td>\n",
       "      <td>159.0</td>\n",
       "      <td>1.6</td>\n",
       "      <td>0.5</td>\n",
       "      <td>0.71</td>\n",
       "      <td>145.0</td>\n",
       "      <td>11.30000</td>\n",
       "      <td>0</td>\n",
       "      <td>0</td>\n",
       "      <td>1</td>\n",
       "    </tr>\n",
       "    <tr>\n",
       "      <th>2</th>\n",
       "      <td>25.0</td>\n",
       "      <td>0.003195</td>\n",
       "      <td>2</td>\n",
       "      <td>0</td>\n",
       "      <td>172.7</td>\n",
       "      <td>95.300000</td>\n",
       "      <td>703.03</td>\n",
       "      <td>0</td>\n",
       "      <td>3.00000</td>\n",
       "      <td>1800.803417</td>\n",
       "      <td>148.0</td>\n",
       "      <td>54.0</td>\n",
       "      <td>20.5</td>\n",
       "      <td>90.00</td>\n",
       "      <td>160.0</td>\n",
       "      <td>11.45981</td>\n",
       "      <td>0</td>\n",
       "      <td>0</td>\n",
       "      <td>0</td>\n",
       "    </tr>\n",
       "    <tr>\n",
       "      <th>3</th>\n",
       "      <td>81.0</td>\n",
       "      <td>0.002264</td>\n",
       "      <td>2</td>\n",
       "      <td>0</td>\n",
       "      <td>165.1</td>\n",
       "      <td>61.700000</td>\n",
       "      <td>1206.03</td>\n",
       "      <td>0</td>\n",
       "      <td>4.00000</td>\n",
       "      <td>1800.803417</td>\n",
       "      <td>158.0</td>\n",
       "      <td>54.0</td>\n",
       "      <td>20.5</td>\n",
       "      <td>90.00</td>\n",
       "      <td>185.0</td>\n",
       "      <td>11.60000</td>\n",
       "      <td>0</td>\n",
       "      <td>0</td>\n",
       "      <td>0</td>\n",
       "    </tr>\n",
       "    <tr>\n",
       "      <th>4</th>\n",
       "      <td>19.0</td>\n",
       "      <td>0.002371</td>\n",
       "      <td>2</td>\n",
       "      <td>1</td>\n",
       "      <td>188.0</td>\n",
       "      <td>83.791104</td>\n",
       "      <td>601.01</td>\n",
       "      <td>0</td>\n",
       "      <td>3.48829</td>\n",
       "      <td>1800.803417</td>\n",
       "      <td>147.0</td>\n",
       "      <td>54.0</td>\n",
       "      <td>20.5</td>\n",
       "      <td>100.00</td>\n",
       "      <td>170.0</td>\n",
       "      <td>11.45981</td>\n",
       "      <td>0</td>\n",
       "      <td>0</td>\n",
       "      <td>0</td>\n",
       "    </tr>\n",
       "  </tbody>\n",
       "</table>\n",
       "</div>"
      ],
      "text/plain": [
       "    age       bmi  ethnicity  gender  height     weight  apache_3j_diagnosis  \\\n",
       "0  68.0  0.002273          2       1   180.3  73.900000               502.01   \n",
       "1  77.0  0.002742          2       0   160.0  70.200000               203.01   \n",
       "2  25.0  0.003195          2       0   172.7  95.300000               703.03   \n",
       "3  81.0  0.002264          2       0   165.1  61.700000              1206.03   \n",
       "4  19.0  0.002371          2       1   188.0  83.791104               601.01   \n",
       "\n",
       "   arf_apache  gcs_eyes_apache  urineoutput_apache  d1_sysbp_max  \\\n",
       "0           0          3.00000         1800.803417         131.0   \n",
       "1           0          1.00000         1800.803417         159.0   \n",
       "2           0          3.00000         1800.803417         148.0   \n",
       "3           0          4.00000         1800.803417         158.0   \n",
       "4           0          3.48829         1800.803417         147.0   \n",
       "\n",
       "   d1_albumin_max  d1_bilirubin_max  d1_creatinine_max  d1_glucose_max  \\\n",
       "0             2.3               0.4               2.51           168.0   \n",
       "1             1.6               0.5               0.71           145.0   \n",
       "2            54.0              20.5              90.00           160.0   \n",
       "3            54.0              20.5              90.00           185.0   \n",
       "4            54.0              20.5             100.00           170.0   \n",
       "\n",
       "   d1_hemaglobin_max  cirrhosis  hepatic_failure  diabetes_mellitus  \n",
       "0            8.90000          0                0                  1  \n",
       "1           11.30000          0                0                  1  \n",
       "2           11.45981          0                0                  0  \n",
       "3           11.60000          0                0                  0  \n",
       "4           11.45981          0                0                  0  "
      ]
     },
     "execution_count": 21,
     "metadata": {},
     "output_type": "execute_result"
    }
   ],
   "source": [
    "df_train.head()"
   ]
  },
  {
   "cell_type": "code",
   "execution_count": 22,
   "metadata": {},
   "outputs": [
    {
     "data": {
      "image/png": "[encoded data removed]",
      "text/plain": [
       "<Figure size 432x288 with 1 Axes>"
      ]
     },
     "metadata": {
      "needs_background": "light"
     },
     "output_type": "display_data"
    }
   ],
   "source": [
    "ax = sns.countplot(x=\"diabetes_mellitus\", data=df_train)"
   ]
  },
  {
   "cell_type": "code",
   "execution_count": 23,
   "metadata": {},
   "outputs": [],
   "source": [
    "#Separando classe e o target\n",
    "X = df_train.drop('diabetes_mellitus', axis = 1)\n",
    "y = df_train['diabetes_mellitus']"
   ]
  },
  {
   "cell_type": "code",
   "execution_count": 24,
   "metadata": {},
   "outputs": [],
   "source": [
    "# sampling_strategy=0.7, define a quantidade de dados da classe minoritaria\n",
    "smt = SMOTE()"
   ]
  },
  {
   "cell_type": "code",
   "execution_count": 25,
   "metadata": {},
   "outputs": [],
   "source": [
    "X, y = smt.fit_sample(X, y)"
   ]
  },
  {
   "cell_type": "code",
   "execution_count": 26,
   "metadata": {},
   "outputs": [
    {
     "data": {
      "text/plain": [
       "array([102006, 102006], dtype=int64)"
      ]
     },
     "execution_count": 26,
     "metadata": {},
     "output_type": "execute_result"
    }
   ],
   "source": [
    "np.bincount(y)"
   ]
  },
  {
   "cell_type": "code",
   "execution_count": 27,
   "metadata": {},
   "outputs": [
    {
     "data": {
      "image/png": "[encoded data removed]",
      "text/plain": [
       "<Figure size 432x288 with 1 Axes>"
      ]
     },
     "metadata": {
      "needs_background": "light"
     },
     "output_type": "display_data"
    }
   ],
   "source": [
    "ax = sns.countplot(x=y)"
   ]
  },
  {
   "cell_type": "markdown",
   "metadata": {},
   "source": [
    "## Treinamento do modelo"
   ]
  },
  {
   "cell_type": "code",
   "execution_count": 28,
   "metadata": {},
   "outputs": [],
   "source": [
    "#Separando dados em treino e teste\n",
    "X_train, X_test, y_train, y_test = train_test_split(X, y, random_state=1, stratify=y)"
   ]
  },
  {
   "cell_type": "code",
   "execution_count": 29,
   "metadata": {},
   "outputs": [],
   "source": [
    "clf = LGBMClassifier()"
   ]
  },
  {
   "cell_type": "code",
   "execution_count": 30,
   "metadata": {},
   "outputs": [],
   "source": [
    "# Valores testados: learning rate a 0,08 deu overfitting\n",
    "# 'learning_rate':[0.01, 0.03, 0,05, 0.07, 0.08], 'n_estimators':[50, 100, 150] ,\n",
    "# 'boosting_type':['gbdt', 'rf','dart'], 'max_depth':[20, 50, 100],'num_leaves':[50, 80, 100, 120, 130]\n",
    "\n",
    "params = {'learning_rate':[0.01], 'n_estimators':[50] , \n",
    "          'boosting_type':['gbdt', 'rf','dart'], 'max_depth':[22], 'num_leaves':[220]}"
   ]
  },
  {
   "cell_type": "code",
   "execution_count": 31,
   "metadata": {},
   "outputs": [
    {
     "data": {
      "text/plain": [
       "GridSearchCV(cv=10, estimator=LGBMClassifier(), n_jobs=-1,\n",
       "             param_grid={'boosting_type': ['gbdt', 'rf', 'dart'],\n",
       "                         'learning_rate': [0.01], 'max_depth': [22],\n",
       "                         'n_estimators': [50], 'num_leaves': [220]},\n",
       "             return_train_score=True)"
      ]
     },
     "execution_count": 31,
     "metadata": {},
     "output_type": "execute_result"
    }
   ],
   "source": [
    "grid = GridSearchCV(clf, param_grid=params, cv=10, n_jobs=-1, return_train_score=True)\n",
    "grid.fit(X_train, y_train)"
   ]
  },
  {
   "cell_type": "code",
   "execution_count": 32,
   "metadata": {},
   "outputs": [
    {
     "data": {
      "text/plain": [
       "LGBMClassifier(learning_rate=0.01, max_depth=22, n_estimators=50,\n",
       "               num_leaves=220)"
      ]
     },
     "execution_count": 32,
     "metadata": {},
     "output_type": "execute_result"
    }
   ],
   "source": [
    "grid.best_estimator_"
   ]
  },
  {
   "cell_type": "code",
   "execution_count": 33,
   "metadata": {},
   "outputs": [
    {
     "data": {
      "text/plain": [
       "0.8060571430890289"
      ]
     },
     "execution_count": 33,
     "metadata": {},
     "output_type": "execute_result"
    }
   ],
   "source": [
    "grid.best_score_"
   ]
  },
  {
   "cell_type": "code",
   "execution_count": 34,
   "metadata": {},
   "outputs": [],
   "source": [
    "pred = grid.predict(X_test)"
   ]
  },
  {
   "cell_type": "code",
   "execution_count": 35,
   "metadata": {},
   "outputs": [
    {
     "name": "stdout",
     "output_type": "stream",
     "text": [
      "[[20540  4961]\n",
      " [ 4889 20613]]\n",
      "\n",
      "MSE: 0.19312589455522225\n",
      "Accuracy: 0.8068741054447778\n",
      "Recall: 0.8082895459179672\n",
      "F1-Score: 0.8071501292192028\n",
      "AUC: 0.8068740776921313\n",
      "Cohen-Kappa: 0.613748189359404\n"
     ]
    }
   ],
   "source": [
    "print(confusion_matrix(y_test,pred))\n",
    "\n",
    "print('\\nMSE: ' + str(mean_squared_error(y_test,pred)))\n",
    "print('Accuracy: ' + str(accuracy_score(y_test,pred)))\n",
    "print('Recall: ' + str(recall_score(y_test,pred)))\n",
    "print('F1-Score: ' + str(f1_score(y_test,pred)))\n",
    "\n",
    "print('AUC: ' + str(roc_auc_score(y_test,pred)))\n",
    "print('Cohen-Kappa: ' + str(cohen_kappa_score(y_test,pred)))"
   ]
  },
  {
   "cell_type": "markdown",
   "metadata": {},
   "source": [
    "## Predição"
   ]
  },
  {
   "cell_type": "code",
   "execution_count": 36,
   "metadata": {},
   "outputs": [],
   "source": [
    "df_pred = pd.read_csv('UnlabeledWiDS2021.csv')"
   ]
  },
  {
   "cell_type": "code",
   "execution_count": 37,
   "metadata": {},
   "outputs": [],
   "source": [
    "colunas_pred = X.columns.tolist()"
   ]
  },
  {
   "cell_type": "code",
   "execution_count": 38,
   "metadata": {},
   "outputs": [
    {
     "data": {
      "text/plain": [
       "Unnamed: 0                     10234\n",
       "encounter_id                   10234\n",
       "hospital_id                    10234\n",
       "age                            10234\n",
       "bmi                             9219\n",
       "                               ...  \n",
       "hepatic_failure                10234\n",
       "immunosuppression              10234\n",
       "leukemia                       10234\n",
       "lymphoma                       10234\n",
       "solid_tumor_with_metastasis    10234\n",
       "Length: 180, dtype: int64"
      ]
     },
     "execution_count": 38,
     "metadata": {},
     "output_type": "execute_result"
    }
   ],
   "source": [
    "df_pred.count()"
   ]
  },
  {
   "cell_type": "code",
   "execution_count": 40,
   "metadata": {},
   "outputs": [],
   "source": [
    "# Preenchendo peso e altura pelos valores medios\n",
    "df_pred['weight'].fillna(df_pred['weight'].mean(), inplace=True)\n",
    "df_pred['height'].fillna(df_pred['height'].mean(), inplace=True)"
   ]
  },
  {
   "cell_type": "code",
   "execution_count": 41,
   "metadata": {},
   "outputs": [],
   "source": [
    "#Atualizando o valor do bmi, com cálculo de valores\n",
    "df_pred['bmi'] = df_pred['weight'] / (df_pred['height'] * df_pred['height'])"
   ]
  },
  {
   "cell_type": "code",
   "execution_count": 42,
   "metadata": {},
   "outputs": [],
   "source": [
    "#Preencheendo campos com os valores de maior incidência\n",
    "df_pred['ethnicity'].fillna('Caucasian', inplace=True)\n",
    "df_pred['gender'].fillna('M', inplace=True)"
   ]
  },
  {
   "cell_type": "code",
   "execution_count": 43,
   "metadata": {},
   "outputs": [],
   "source": [
    "### Tratando os dados, substituindo valores nulos pela média ou pelos valores de referencia\n",
    "df_pred['age'].fillna(df_pred['age'].mean(), inplace=True)\n",
    "df_pred['d1_mbp_max'].fillna(df_pred['d1_mbp_max'].mean(), inplace=True)\n",
    "#df_pred['d1_mbp_min'].fillna(df_pred['d1_mbp_min'].mean(), inplace=True)\n",
    "df_pred['apache_3j_diagnosis'].fillna(df_pred['apache_3j_diagnosis'].mean(), inplace=True)\n",
    "df_pred['urineoutput_apache'].fillna(df_train['urineoutput_apache'].mean(), inplace=True)\n",
    "df_pred['gcs_eyes_apache'].fillna(df_train['gcs_eyes_apache'].mean(), inplace=True)\n",
    "\n",
    "#df_pred['d1_hemaglobin_min'].fillna(df_pred['d1_hemaglobin_min'].mean(), inplace=True)\n",
    "df_pred['d1_hemaglobin_max'].fillna(df_pred['d1_hemaglobin_max'].mean(), inplace=True)\n",
    "\n",
    "# Albumina: 35 – 54 g/L\n",
    "#df_pred['d1_albumin_min'].fillna(35, inplace=True)\n",
    "df_pred['d1_albumin_max'].fillna(54, inplace=True)\n",
    "                                           \n",
    "# Bilirrubina: 5.1 – 20.5 mcmol/L\n",
    "#df_pred['d1_bilirubin_min'].fillna(5.1, inplace=True)\n",
    "df_pred['d1_bilirubin_max'].fillna(20.5, inplace=True)\n"
   ]
  },
  {
   "cell_type": "code",
   "execution_count": 44,
   "metadata": {},
   "outputs": [],
   "source": [
    "# Preenche campo de acordo com valores de referencia diferentes por sexo\n",
    "# Formas de avaliar campos nulos pd.isnull(linha['d1_creatinine_max']) ou np.isnan(linha['d1_creatinine_min'])\n",
    "\n",
    "# Creatinina μmol/L: M: 60-110 e F: 45-90\n",
    "for indice, linha in df_pred.iterrows():\n",
    "   # if (linha['gender']=='M') and (pd.isnull(linha['d1_creatinine_min'])):\n",
    "   #     df_pred.at[indice , 'd1_creatinine_min'] = 60.0\n",
    "   # elif (linha['gender']=='F') and (pd.isnull(linha['d1_creatinine_min'])): \n",
    "   #     df_pred.at[indice , 'd1_creatinine_min'] = 45.0\n",
    "    if (linha['gender']=='M') and (pd.isnull(linha['d1_creatinine_max'])): \n",
    "        df_pred.at[indice , 'd1_creatinine_max'] = 100.0\n",
    "    elif (linha['gender']=='F') and (pd.isnull(linha['d1_creatinine_max'])): \n",
    "        df_pred.at[indice , 'd1_creatinine_max'] = 90.0"
   ]
  },
  {
   "cell_type": "code",
   "execution_count": 45,
   "metadata": {},
   "outputs": [],
   "source": [
    "# Glicose g/L: Masculino 140–170 e Feminino 120–160\n",
    "for indice, linha in df_pred.iterrows():\n",
    "   # if (linha['gender']=='M') and (pd.isnull(linha['d1_glucose_min'])): \n",
    "   #     df_pred.at[indice ,'d1_glucose_min']=140\n",
    "   # elif (linha['gender']=='F') and (pd.isnull(linha['d1_glucose_min'])): \n",
    "   #     df_pred.at[indice ,'d1_glucose_min']=120\n",
    "    if (linha['gender']=='M') and (pd.isnull(linha['d1_glucose_max'])): \n",
    "        df_pred.at[indice ,'d1_glucose_max']=170\n",
    "    elif (linha['gender']=='F') and (pd.isnull(linha['d1_glucose_max'])): \n",
    "        df_pred.at[indice ,'d1_glucose_max']=160\n",
    "    "
   ]
  },
  {
   "cell_type": "code",
   "execution_count": 46,
   "metadata": {},
   "outputs": [
    {
     "data": {
      "text/plain": [
       "Unnamed: 0                     10234\n",
       "encounter_id                   10234\n",
       "hospital_id                    10234\n",
       "age                            10234\n",
       "bmi                            10234\n",
       "                               ...  \n",
       "hepatic_failure                10234\n",
       "immunosuppression              10234\n",
       "leukemia                       10234\n",
       "lymphoma                       10234\n",
       "solid_tumor_with_metastasis    10234\n",
       "Length: 180, dtype: int64"
      ]
     },
     "execution_count": 46,
     "metadata": {},
     "output_type": "execute_result"
    }
   ],
   "source": [
    "df_pred.count()"
   ]
  },
  {
   "cell_type": "code",
   "execution_count": 47,
   "metadata": {},
   "outputs": [],
   "source": [
    "enc_pred = LabelEncoder()\n",
    "\n",
    "sexo = enc_pred.fit_transform(df_pred['gender'])\n",
    "raca = enc_pred.fit_transform(df_pred['ethnicity'])\n",
    "\n",
    "df_pred['gender'] = sexo\n",
    "df_pred['ethnicity'] = raca"
   ]
  },
  {
   "cell_type": "code",
   "execution_count": 48,
   "metadata": {},
   "outputs": [
    {
     "data": {
      "text/html": [
       "<div>\n",
       "<style scoped>\n",
       "    .dataframe tbody tr th:only-of-type {\n",
       "        vertical-align: middle;\n",
       "    }\n",
       "\n",
       "    .dataframe tbody tr th {\n",
       "        vertical-align: top;\n",
       "    }\n",
       "\n",
       "    .dataframe thead th {\n",
       "        text-align: right;\n",
       "    }\n",
       "</style>\n",
       "<table border=\"1\" class=\"dataframe\">\n",
       "  <thead>\n",
       "    <tr style=\"text-align: right;\">\n",
       "      <th></th>\n",
       "      <th>Unnamed: 0</th>\n",
       "      <th>encounter_id</th>\n",
       "      <th>hospital_id</th>\n",
       "      <th>age</th>\n",
       "      <th>bmi</th>\n",
       "      <th>elective_surgery</th>\n",
       "      <th>ethnicity</th>\n",
       "      <th>gender</th>\n",
       "      <th>height</th>\n",
       "      <th>hospital_admit_source</th>\n",
       "      <th>...</th>\n",
       "      <th>h1_arterial_po2_min</th>\n",
       "      <th>h1_pao2fio2ratio_max</th>\n",
       "      <th>h1_pao2fio2ratio_min</th>\n",
       "      <th>aids</th>\n",
       "      <th>cirrhosis</th>\n",
       "      <th>hepatic_failure</th>\n",
       "      <th>immunosuppression</th>\n",
       "      <th>leukemia</th>\n",
       "      <th>lymphoma</th>\n",
       "      <th>solid_tumor_with_metastasis</th>\n",
       "    </tr>\n",
       "  </thead>\n",
       "  <tbody>\n",
       "    <tr>\n",
       "      <th>0</th>\n",
       "      <td>1</td>\n",
       "      <td>144740</td>\n",
       "      <td>10141</td>\n",
       "      <td>72</td>\n",
       "      <td>0.003594</td>\n",
       "      <td>0</td>\n",
       "      <td>2</td>\n",
       "      <td>0</td>\n",
       "      <td>152.4</td>\n",
       "      <td>Floor</td>\n",
       "      <td>...</td>\n",
       "      <td>NaN</td>\n",
       "      <td>NaN</td>\n",
       "      <td>NaN</td>\n",
       "      <td>0</td>\n",
       "      <td>0</td>\n",
       "      <td>0</td>\n",
       "      <td>0</td>\n",
       "      <td>0</td>\n",
       "      <td>0</td>\n",
       "      <td>0</td>\n",
       "    </tr>\n",
       "    <tr>\n",
       "      <th>1</th>\n",
       "      <td>2</td>\n",
       "      <td>141990</td>\n",
       "      <td>10141</td>\n",
       "      <td>86</td>\n",
       "      <td>0.002717</td>\n",
       "      <td>0</td>\n",
       "      <td>2</td>\n",
       "      <td>0</td>\n",
       "      <td>175.3</td>\n",
       "      <td>Emergency Department</td>\n",
       "      <td>...</td>\n",
       "      <td>NaN</td>\n",
       "      <td>NaN</td>\n",
       "      <td>NaN</td>\n",
       "      <td>0</td>\n",
       "      <td>0</td>\n",
       "      <td>0</td>\n",
       "      <td>0</td>\n",
       "      <td>0</td>\n",
       "      <td>0</td>\n",
       "      <td>0</td>\n",
       "    </tr>\n",
       "    <tr>\n",
       "      <th>2</th>\n",
       "      <td>3</td>\n",
       "      <td>142038</td>\n",
       "      <td>10141</td>\n",
       "      <td>72</td>\n",
       "      <td>0.003157</td>\n",
       "      <td>0</td>\n",
       "      <td>2</td>\n",
       "      <td>0</td>\n",
       "      <td>162.6</td>\n",
       "      <td>Floor</td>\n",
       "      <td>...</td>\n",
       "      <td>NaN</td>\n",
       "      <td>NaN</td>\n",
       "      <td>NaN</td>\n",
       "      <td>0</td>\n",
       "      <td>0</td>\n",
       "      <td>0</td>\n",
       "      <td>0</td>\n",
       "      <td>0</td>\n",
       "      <td>0</td>\n",
       "      <td>0</td>\n",
       "    </tr>\n",
       "    <tr>\n",
       "      <th>3</th>\n",
       "      <td>4</td>\n",
       "      <td>138628</td>\n",
       "      <td>10141</td>\n",
       "      <td>66</td>\n",
       "      <td>0.002641</td>\n",
       "      <td>0</td>\n",
       "      <td>2</td>\n",
       "      <td>1</td>\n",
       "      <td>177.8</td>\n",
       "      <td>Floor</td>\n",
       "      <td>...</td>\n",
       "      <td>NaN</td>\n",
       "      <td>NaN</td>\n",
       "      <td>NaN</td>\n",
       "      <td>0</td>\n",
       "      <td>0</td>\n",
       "      <td>0</td>\n",
       "      <td>0</td>\n",
       "      <td>0</td>\n",
       "      <td>0</td>\n",
       "      <td>0</td>\n",
       "    </tr>\n",
       "    <tr>\n",
       "      <th>4</th>\n",
       "      <td>5</td>\n",
       "      <td>141682</td>\n",
       "      <td>10141</td>\n",
       "      <td>89</td>\n",
       "      <td>0.002882</td>\n",
       "      <td>0</td>\n",
       "      <td>2</td>\n",
       "      <td>1</td>\n",
       "      <td>170.2</td>\n",
       "      <td>Direct Admit</td>\n",
       "      <td>...</td>\n",
       "      <td>NaN</td>\n",
       "      <td>NaN</td>\n",
       "      <td>NaN</td>\n",
       "      <td>0</td>\n",
       "      <td>0</td>\n",
       "      <td>0</td>\n",
       "      <td>0</td>\n",
       "      <td>0</td>\n",
       "      <td>0</td>\n",
       "      <td>0</td>\n",
       "    </tr>\n",
       "  </tbody>\n",
       "</table>\n",
       "<p>5 rows × 180 columns</p>\n",
       "</div>"
      ],
      "text/plain": [
       "   Unnamed: 0  encounter_id  hospital_id  age       bmi  elective_surgery  \\\n",
       "0           1        144740        10141   72  0.003594                 0   \n",
       "1           2        141990        10141   86  0.002717                 0   \n",
       "2           3        142038        10141   72  0.003157                 0   \n",
       "3           4        138628        10141   66  0.002641                 0   \n",
       "4           5        141682        10141   89  0.002882                 0   \n",
       "\n",
       "   ethnicity  gender  height hospital_admit_source  ... h1_arterial_po2_min  \\\n",
       "0          2       0   152.4                 Floor  ...                 NaN   \n",
       "1          2       0   175.3  Emergency Department  ...                 NaN   \n",
       "2          2       0   162.6                 Floor  ...                 NaN   \n",
       "3          2       1   177.8                 Floor  ...                 NaN   \n",
       "4          2       1   170.2          Direct Admit  ...                 NaN   \n",
       "\n",
       "   h1_pao2fio2ratio_max h1_pao2fio2ratio_min aids  cirrhosis  hepatic_failure  \\\n",
       "0                   NaN                  NaN    0          0                0   \n",
       "1                   NaN                  NaN    0          0                0   \n",
       "2                   NaN                  NaN    0          0                0   \n",
       "3                   NaN                  NaN    0          0                0   \n",
       "4                   NaN                  NaN    0          0                0   \n",
       "\n",
       "   immunosuppression  leukemia  lymphoma  solid_tumor_with_metastasis  \n",
       "0                  0         0         0                            0  \n",
       "1                  0         0         0                            0  \n",
       "2                  0         0         0                            0  \n",
       "3                  0         0         0                            0  \n",
       "4                  0         0         0                            0  \n",
       "\n",
       "[5 rows x 180 columns]"
      ]
     },
     "execution_count": 48,
     "metadata": {},
     "output_type": "execute_result"
    }
   ],
   "source": [
    "df_pred.head()"
   ]
  },
  {
   "cell_type": "code",
   "execution_count": 49,
   "metadata": {},
   "outputs": [],
   "source": [
    "X_pred = df_pred[colunas_pred]"
   ]
  },
  {
   "cell_type": "code",
   "execution_count": 50,
   "metadata": {},
   "outputs": [
    {
     "data": {
      "text/plain": [
       "(10234, 18)"
      ]
     },
     "execution_count": 50,
     "metadata": {},
     "output_type": "execute_result"
    }
   ],
   "source": [
    "X_pred.shape"
   ]
  },
  {
   "cell_type": "code",
   "execution_count": 51,
   "metadata": {},
   "outputs": [],
   "source": [
    "predito = grid.predict(X_pred)"
   ]
  },
  {
   "cell_type": "code",
   "execution_count": 52,
   "metadata": {},
   "outputs": [
    {
     "data": {
      "text/html": [
       "<div>\n",
       "<style scoped>\n",
       "    .dataframe tbody tr th:only-of-type {\n",
       "        vertical-align: middle;\n",
       "    }\n",
       "\n",
       "    .dataframe tbody tr th {\n",
       "        vertical-align: top;\n",
       "    }\n",
       "\n",
       "    .dataframe thead th {\n",
       "        text-align: right;\n",
       "    }\n",
       "</style>\n",
       "<table border=\"1\" class=\"dataframe\">\n",
       "  <thead>\n",
       "    <tr style=\"text-align: right;\">\n",
       "      <th></th>\n",
       "      <th>Unnamed: 0</th>\n",
       "      <th>encounter_id</th>\n",
       "      <th>hospital_id</th>\n",
       "      <th>age</th>\n",
       "      <th>bmi</th>\n",
       "      <th>elective_surgery</th>\n",
       "      <th>ethnicity</th>\n",
       "      <th>gender</th>\n",
       "      <th>height</th>\n",
       "      <th>hospital_admit_source</th>\n",
       "      <th>...</th>\n",
       "      <th>h1_pao2fio2ratio_max</th>\n",
       "      <th>h1_pao2fio2ratio_min</th>\n",
       "      <th>aids</th>\n",
       "      <th>cirrhosis</th>\n",
       "      <th>hepatic_failure</th>\n",
       "      <th>immunosuppression</th>\n",
       "      <th>leukemia</th>\n",
       "      <th>lymphoma</th>\n",
       "      <th>solid_tumor_with_metastasis</th>\n",
       "      <th>diabetes_mellitus</th>\n",
       "    </tr>\n",
       "  </thead>\n",
       "  <tbody>\n",
       "    <tr>\n",
       "      <th>0</th>\n",
       "      <td>1</td>\n",
       "      <td>144740</td>\n",
       "      <td>10141</td>\n",
       "      <td>72</td>\n",
       "      <td>0.003594</td>\n",
       "      <td>0</td>\n",
       "      <td>2</td>\n",
       "      <td>0</td>\n",
       "      <td>152.4</td>\n",
       "      <td>Floor</td>\n",
       "      <td>...</td>\n",
       "      <td>NaN</td>\n",
       "      <td>NaN</td>\n",
       "      <td>0</td>\n",
       "      <td>0</td>\n",
       "      <td>0</td>\n",
       "      <td>0</td>\n",
       "      <td>0</td>\n",
       "      <td>0</td>\n",
       "      <td>0</td>\n",
       "      <td>0</td>\n",
       "    </tr>\n",
       "    <tr>\n",
       "      <th>1</th>\n",
       "      <td>2</td>\n",
       "      <td>141990</td>\n",
       "      <td>10141</td>\n",
       "      <td>86</td>\n",
       "      <td>0.002717</td>\n",
       "      <td>0</td>\n",
       "      <td>2</td>\n",
       "      <td>0</td>\n",
       "      <td>175.3</td>\n",
       "      <td>Emergency Department</td>\n",
       "      <td>...</td>\n",
       "      <td>NaN</td>\n",
       "      <td>NaN</td>\n",
       "      <td>0</td>\n",
       "      <td>0</td>\n",
       "      <td>0</td>\n",
       "      <td>0</td>\n",
       "      <td>0</td>\n",
       "      <td>0</td>\n",
       "      <td>0</td>\n",
       "      <td>0</td>\n",
       "    </tr>\n",
       "    <tr>\n",
       "      <th>2</th>\n",
       "      <td>3</td>\n",
       "      <td>142038</td>\n",
       "      <td>10141</td>\n",
       "      <td>72</td>\n",
       "      <td>0.003157</td>\n",
       "      <td>0</td>\n",
       "      <td>2</td>\n",
       "      <td>0</td>\n",
       "      <td>162.6</td>\n",
       "      <td>Floor</td>\n",
       "      <td>...</td>\n",
       "      <td>NaN</td>\n",
       "      <td>NaN</td>\n",
       "      <td>0</td>\n",
       "      <td>0</td>\n",
       "      <td>0</td>\n",
       "      <td>0</td>\n",
       "      <td>0</td>\n",
       "      <td>0</td>\n",
       "      <td>0</td>\n",
       "      <td>0</td>\n",
       "    </tr>\n",
       "    <tr>\n",
       "      <th>3</th>\n",
       "      <td>4</td>\n",
       "      <td>138628</td>\n",
       "      <td>10141</td>\n",
       "      <td>66</td>\n",
       "      <td>0.002641</td>\n",
       "      <td>0</td>\n",
       "      <td>2</td>\n",
       "      <td>1</td>\n",
       "      <td>177.8</td>\n",
       "      <td>Floor</td>\n",
       "      <td>...</td>\n",
       "      <td>NaN</td>\n",
       "      <td>NaN</td>\n",
       "      <td>0</td>\n",
       "      <td>0</td>\n",
       "      <td>0</td>\n",
       "      <td>0</td>\n",
       "      <td>0</td>\n",
       "      <td>0</td>\n",
       "      <td>0</td>\n",
       "      <td>0</td>\n",
       "    </tr>\n",
       "    <tr>\n",
       "      <th>4</th>\n",
       "      <td>5</td>\n",
       "      <td>141682</td>\n",
       "      <td>10141</td>\n",
       "      <td>89</td>\n",
       "      <td>0.002882</td>\n",
       "      <td>0</td>\n",
       "      <td>2</td>\n",
       "      <td>1</td>\n",
       "      <td>170.2</td>\n",
       "      <td>Direct Admit</td>\n",
       "      <td>...</td>\n",
       "      <td>NaN</td>\n",
       "      <td>NaN</td>\n",
       "      <td>0</td>\n",
       "      <td>0</td>\n",
       "      <td>0</td>\n",
       "      <td>0</td>\n",
       "      <td>0</td>\n",
       "      <td>0</td>\n",
       "      <td>0</td>\n",
       "      <td>0</td>\n",
       "    </tr>\n",
       "  </tbody>\n",
       "</table>\n",
       "<p>5 rows × 181 columns</p>\n",
       "</div>"
      ],
      "text/plain": [
       "   Unnamed: 0  encounter_id  hospital_id  age       bmi  elective_surgery  \\\n",
       "0           1        144740        10141   72  0.003594                 0   \n",
       "1           2        141990        10141   86  0.002717                 0   \n",
       "2           3        142038        10141   72  0.003157                 0   \n",
       "3           4        138628        10141   66  0.002641                 0   \n",
       "4           5        141682        10141   89  0.002882                 0   \n",
       "\n",
       "   ethnicity  gender  height hospital_admit_source  ... h1_pao2fio2ratio_max  \\\n",
       "0          2       0   152.4                 Floor  ...                  NaN   \n",
       "1          2       0   175.3  Emergency Department  ...                  NaN   \n",
       "2          2       0   162.6                 Floor  ...                  NaN   \n",
       "3          2       1   177.8                 Floor  ...                  NaN   \n",
       "4          2       1   170.2          Direct Admit  ...                  NaN   \n",
       "\n",
       "   h1_pao2fio2ratio_min aids cirrhosis  hepatic_failure  immunosuppression  \\\n",
       "0                   NaN    0         0                0                  0   \n",
       "1                   NaN    0         0                0                  0   \n",
       "2                   NaN    0         0                0                  0   \n",
       "3                   NaN    0         0                0                  0   \n",
       "4                   NaN    0         0                0                  0   \n",
       "\n",
       "   leukemia  lymphoma  solid_tumor_with_metastasis  diabetes_mellitus  \n",
       "0         0         0                            0                  0  \n",
       "1         0         0                            0                  0  \n",
       "2         0         0                            0                  0  \n",
       "3         0         0                            0                  0  \n",
       "4         0         0                            0                  0  \n",
       "\n",
       "[5 rows x 181 columns]"
      ]
     },
     "execution_count": 52,
     "metadata": {},
     "output_type": "execute_result"
    }
   ],
   "source": [
    "df_pred['diabetes_mellitus'] = predito\n",
    "\n",
    "df_pred.head()"
   ]
  },
  {
   "cell_type": "code",
   "execution_count": 53,
   "metadata": {},
   "outputs": [
    {
     "data": {
      "text/html": [
       "<div>\n",
       "<style scoped>\n",
       "    .dataframe tbody tr th:only-of-type {\n",
       "        vertical-align: middle;\n",
       "    }\n",
       "\n",
       "    .dataframe tbody tr th {\n",
       "        vertical-align: top;\n",
       "    }\n",
       "\n",
       "    .dataframe thead th {\n",
       "        text-align: right;\n",
       "    }\n",
       "</style>\n",
       "<table border=\"1\" class=\"dataframe\">\n",
       "  <thead>\n",
       "    <tr style=\"text-align: right;\">\n",
       "      <th></th>\n",
       "      <th>encounter_id</th>\n",
       "      <th>diabetes_mellitus</th>\n",
       "    </tr>\n",
       "  </thead>\n",
       "  <tbody>\n",
       "    <tr>\n",
       "      <th>0</th>\n",
       "      <td>144740</td>\n",
       "      <td>0</td>\n",
       "    </tr>\n",
       "    <tr>\n",
       "      <th>1</th>\n",
       "      <td>141990</td>\n",
       "      <td>0</td>\n",
       "    </tr>\n",
       "    <tr>\n",
       "      <th>2</th>\n",
       "      <td>142038</td>\n",
       "      <td>0</td>\n",
       "    </tr>\n",
       "    <tr>\n",
       "      <th>3</th>\n",
       "      <td>138628</td>\n",
       "      <td>0</td>\n",
       "    </tr>\n",
       "    <tr>\n",
       "      <th>4</th>\n",
       "      <td>141682</td>\n",
       "      <td>0</td>\n",
       "    </tr>\n",
       "  </tbody>\n",
       "</table>\n",
       "</div>"
      ],
      "text/plain": [
       "   encounter_id  diabetes_mellitus\n",
       "0        144740                  0\n",
       "1        141990                  0\n",
       "2        142038                  0\n",
       "3        138628                  0\n",
       "4        141682                  0"
      ]
     },
     "execution_count": 53,
     "metadata": {},
     "output_type": "execute_result"
    }
   ],
   "source": [
    "df_submission = df_pred[['encounter_id','diabetes_mellitus']]\n",
    "\n",
    "df_submission.head()"
   ]
  },
  {
   "cell_type": "code",
   "execution_count": 54,
   "metadata": {},
   "outputs": [
    {
     "name": "stdout",
     "output_type": "stream",
     "text": [
      "7190\n",
      "3044\n"
     ]
    }
   ],
   "source": [
    "print((df_submission['diabetes_mellitus']==0).sum())\n",
    "print((df_submission['diabetes_mellitus']==1).sum())"
   ]
  },
  {
   "cell_type": "code",
   "execution_count": null,
   "metadata": {},
   "outputs": [],
   "source": [
    "df_submission.to_csv('wids2021_submission.csv',header=True,index=False)"
   ]
  },
  {
   "cell_type": "code",
   "execution_count": null,
   "metadata": {},
   "outputs": [],
   "source": []
  }
 ],
 "metadata": {
  "kernelspec": {
   "display_name": "Python 3",
   "language": "python",
   "name": "python3"
  },
  "language_info": {
   "codemirror_mode": {
    "name": "ipython",
    "version": 3
   },
   "file_extension": ".py",
   "mimetype": "text/x-python",
   "name": "python",
   "nbconvert_exporter": "python",
   "pygments_lexer": "ipython3",
   "version": "3.8.5"
  }
 },
 "nbformat": 4,
 "nbformat_minor": 2
}
