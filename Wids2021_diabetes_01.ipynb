{
 "cells": [
  {
   "cell_type": "markdown",
   "metadata": {},
   "source": [
    "# WIDS 2021 - Identificação de pacientes com diabetes em UTIs"
   ]
  },
  {
   "cell_type": "code",
   "execution_count": 1,
   "metadata": {},
   "outputs": [],
   "source": [
    "import pandas as pd\n",
    "import seaborn as sns\n",
    "import matplotlib.pyplot as plt\n",
    "import numpy as np"
   ]
  },
  {
   "cell_type": "code",
   "execution_count": 2,
   "metadata": {},
   "outputs": [],
   "source": [
    "%matplotlib inline"
   ]
  },
  {
   "cell_type": "code",
   "execution_count": null,
   "metadata": {},
   "outputs": [],
   "source": [
    "#Primeira seleção de variáveis, obtido acuracia na previsão de 0,70868\n",
    "colunas1 = ['age', 'bmi', 'ethnicity', 'gender', 'arf_apache','creatinine_apache', 'glucose_apache','map_apache',\n",
    "           'd1_creatinine_max', 'd1_creatinine_min', 'd1_glucose_max', 'd1_glucose_min',\n",
    "           'd1_diasbp_max', 'd1_diasbp_min', 'd1_sysbp_max', 'd1_sysbp_min', 'diabetes_mellitus']"
   ]
  },
  {
   "cell_type": "code",
   "execution_count": null,
   "metadata": {},
   "outputs": [],
   "source": [
    "#Segunda seleção de variáveis, obtido acuracia na previsão de 0,72366 com LGBMClassifier e 0,70 com XGBClassifier\n",
    "colunas2 = ['age', 'bmi', 'ethnicity', 'gender', 'weight', 'apache_3j_diagnosis', 'arf_apache',\n",
    "           'd1_creatinine_max','d1_creatinine_min', 'd1_glucose_max', 'd1_glucose_min',\n",
    "           'd1_hemaglobin_max', 'd1_hemaglobin_min', 'diabetes_mellitus']"
   ]
  },
  {
   "cell_type": "code",
   "execution_count": null,
   "metadata": {},
   "outputs": [],
   "source": [
    "#Terceira seleção de variáveis, obtido acuracia na previsão de 0.70123\n",
    "colunas3 = ['age', 'bmi', 'gender', 'ethnicity', 'weight', 'hepatic_failure', 'd1_diasbp_max', 'd1_diasbp_noninvasive_max', \n",
    "'d1_mbp_max', 'd1_mbp_noninvasive_max', 'd1_heartrate_max', 'd1_resprate_max',\n",
    "'d1_spo2_max', 'd1_sysbp_max', 'd1_sysbp_noninvasive_max', 'd1_temp_max', 'd1_bun_max',\n",
    "'d1_calcium_max', 'd1_creatinine_max', 'd1_glucose_max', 'd1_hco3_max', 'd1_hemaglobin_max', \n",
    "'d1_hematocrit_max', 'd1_platelets_max', 'd1_potassium_max', 'd1_sodium_max', 'd1_wbc_max',\n",
    "'apache_2_diagnosis', 'apache_3j_diagnosis', 'arf_apache', 'gcs_eyes_apache', 'gcs_motor_apache', \n",
    " 'gcs_unable_apache', 'gcs_verbal_apache', 'intubated_apache', 'map_apache', 'ventilated_apache',\n",
    " 'glucose_apache', 'creatinine_apache', 'hematocrit_apache', 'diabetes_mellitus']"
   ]
  },
  {
   "cell_type": "code",
   "execution_count": null,
   "metadata": {},
   "outputs": [],
   "source": [
    "#Quarta da seleção de variáveis, obtido acuracia na previsão de: 0.73796\n",
    "colunas4 = ['age', 'bmi', 'ethnicity', 'gender', 'weight', 'hepatic_failure', 'apache_3j_diagnosis', 'arf_apache',\n",
    "            'd1_creatinine_max','d1_creatinine_min', 'd1_glucose_max', 'd1_glucose_min',\n",
    "           'd1_mbp_max', 'd1_mbp_min', 'd1_hemaglobin_max', 'd1_hemaglobin_min', 'diabetes_mellitus']"
   ]
  },
  {
   "cell_type": "code",
   "execution_count": 3,
   "metadata": {},
   "outputs": [],
   "source": [
    "#Quinta seleção de variáveis, obtido acuracia na previsão de: \n",
    "colunas5 = ['age', 'ethnicity', 'gender', 'weight', 'arf_apache', 'map_apache',\n",
    "            'd1_creatinine_max','d1_creatinine_min', 'd1_glucose_max', 'd1_glucose_min',\n",
    "            'd1_mbp_max', 'd1_mbp_min', 'd1_hemaglobin_max', 'd1_hemaglobin_min', \n",
    "            'diabetes_mellitus']"
   ]
  },
  {
   "cell_type": "code",
   "execution_count": 4,
   "metadata": {},
   "outputs": [],
   "source": [
    "data = pd.read_parquet('train.parquet', engine='pyarrow')"
   ]
  },
  {
   "cell_type": "code",
   "execution_count": 5,
   "metadata": {},
   "outputs": [],
   "source": [
    "df_train = data[colunas5] "
   ]
  },
  {
   "cell_type": "code",
   "execution_count": 6,
   "metadata": {},
   "outputs": [
    {
     "data": {
      "text/plain": [
       "(130157, 15)"
      ]
     },
     "execution_count": 6,
     "metadata": {},
     "output_type": "execute_result"
    }
   ],
   "source": [
    "df_train.shape"
   ]
  },
  {
   "cell_type": "code",
   "execution_count": 7,
   "metadata": {},
   "outputs": [
    {
     "data": {
      "text/plain": [
       "age                  130157\n",
       "ethnicity            130157\n",
       "gender               130157\n",
       "weight               130157\n",
       "arf_apache           130157\n",
       "map_apache           130157\n",
       "d1_creatinine_max    130157\n",
       "d1_creatinine_min    130157\n",
       "d1_glucose_max       130157\n",
       "d1_glucose_min       130157\n",
       "d1_mbp_max           130157\n",
       "d1_mbp_min           130157\n",
       "d1_hemaglobin_max    130157\n",
       "d1_hemaglobin_min    130157\n",
       "diabetes_mellitus    130157\n",
       "dtype: int64"
      ]
     },
     "execution_count": 7,
     "metadata": {},
     "output_type": "execute_result"
    }
   ],
   "source": [
    "df_train.count()"
   ]
  },
  {
   "cell_type": "code",
   "execution_count": 8,
   "metadata": {},
   "outputs": [
    {
     "data": {
      "text/html": [
       "<div>\n",
       "<style scoped>\n",
       "    .dataframe tbody tr th:only-of-type {\n",
       "        vertical-align: middle;\n",
       "    }\n",
       "\n",
       "    .dataframe tbody tr th {\n",
       "        vertical-align: top;\n",
       "    }\n",
       "\n",
       "    .dataframe thead th {\n",
       "        text-align: right;\n",
       "    }\n",
       "</style>\n",
       "<table border=\"1\" class=\"dataframe\">\n",
       "  <thead>\n",
       "    <tr style=\"text-align: right;\">\n",
       "      <th></th>\n",
       "      <th>age</th>\n",
       "      <th>ethnicity</th>\n",
       "      <th>gender</th>\n",
       "      <th>weight</th>\n",
       "      <th>arf_apache</th>\n",
       "      <th>map_apache</th>\n",
       "      <th>d1_creatinine_max</th>\n",
       "      <th>d1_creatinine_min</th>\n",
       "      <th>d1_glucose_max</th>\n",
       "      <th>d1_glucose_min</th>\n",
       "      <th>d1_mbp_max</th>\n",
       "      <th>d1_mbp_min</th>\n",
       "      <th>d1_hemaglobin_max</th>\n",
       "      <th>d1_hemaglobin_min</th>\n",
       "      <th>diabetes_mellitus</th>\n",
       "    </tr>\n",
       "  </thead>\n",
       "  <tbody>\n",
       "    <tr>\n",
       "      <th>count</th>\n",
       "      <td>130157.000000</td>\n",
       "      <td>130157.000000</td>\n",
       "      <td>130157.000000</td>\n",
       "      <td>130157.000000</td>\n",
       "      <td>130157.000000</td>\n",
       "      <td>130157.000000</td>\n",
       "      <td>130157.000000</td>\n",
       "      <td>130157.000000</td>\n",
       "      <td>130157.000000</td>\n",
       "      <td>130157.000000</td>\n",
       "      <td>130157.000000</td>\n",
       "      <td>130157.000000</td>\n",
       "      <td>130157.000000</td>\n",
       "      <td>130157.000000</td>\n",
       "      <td>130157.000000</td>\n",
       "    </tr>\n",
       "    <tr>\n",
       "      <th>mean</th>\n",
       "      <td>62.322088</td>\n",
       "      <td>1.960794</td>\n",
       "      <td>0.541823</td>\n",
       "      <td>83.795705</td>\n",
       "      <td>0.027997</td>\n",
       "      <td>87.181062</td>\n",
       "      <td>1.490518</td>\n",
       "      <td>1.363943</td>\n",
       "      <td>173.587577</td>\n",
       "      <td>114.451377</td>\n",
       "      <td>104.224115</td>\n",
       "      <td>64.355650</td>\n",
       "      <td>11.469323</td>\n",
       "      <td>10.931626</td>\n",
       "      <td>0.216285</td>\n",
       "    </tr>\n",
       "    <tr>\n",
       "      <th>std</th>\n",
       "      <td>16.660000</td>\n",
       "      <td>0.973878</td>\n",
       "      <td>0.498250</td>\n",
       "      <td>24.685131</td>\n",
       "      <td>0.164965</td>\n",
       "      <td>41.851469</td>\n",
       "      <td>1.451990</td>\n",
       "      <td>1.276652</td>\n",
       "      <td>83.971864</td>\n",
       "      <td>37.067942</td>\n",
       "      <td>20.885761</td>\n",
       "      <td>15.414567</td>\n",
       "      <td>2.028433</td>\n",
       "      <td>2.208810</td>\n",
       "      <td>0.411712</td>\n",
       "    </tr>\n",
       "    <tr>\n",
       "      <th>min</th>\n",
       "      <td>0.000000</td>\n",
       "      <td>0.000000</td>\n",
       "      <td>0.000000</td>\n",
       "      <td>38.600000</td>\n",
       "      <td>0.000000</td>\n",
       "      <td>5.155029</td>\n",
       "      <td>0.312539</td>\n",
       "      <td>-0.018171</td>\n",
       "      <td>46.814882</td>\n",
       "      <td>33.000000</td>\n",
       "      <td>60.000000</td>\n",
       "      <td>22.000000</td>\n",
       "      <td>6.495627</td>\n",
       "      <td>5.289099</td>\n",
       "      <td>0.000000</td>\n",
       "    </tr>\n",
       "    <tr>\n",
       "      <th>25%</th>\n",
       "      <td>53.000000</td>\n",
       "      <td>2.000000</td>\n",
       "      <td>0.000000</td>\n",
       "      <td>67.000000</td>\n",
       "      <td>0.000000</td>\n",
       "      <td>54.000000</td>\n",
       "      <td>0.780000</td>\n",
       "      <td>0.730000</td>\n",
       "      <td>119.000000</td>\n",
       "      <td>92.000000</td>\n",
       "      <td>90.000000</td>\n",
       "      <td>55.000000</td>\n",
       "      <td>10.100000</td>\n",
       "      <td>9.400000</td>\n",
       "      <td>0.000000</td>\n",
       "    </tr>\n",
       "    <tr>\n",
       "      <th>50%</th>\n",
       "      <td>65.000000</td>\n",
       "      <td>2.000000</td>\n",
       "      <td>1.000000</td>\n",
       "      <td>80.300000</td>\n",
       "      <td>0.000000</td>\n",
       "      <td>66.000000</td>\n",
       "      <td>1.070000</td>\n",
       "      <td>1.000000</td>\n",
       "      <td>152.507134</td>\n",
       "      <td>109.000000</td>\n",
       "      <td>102.000000</td>\n",
       "      <td>64.000000</td>\n",
       "      <td>11.464398</td>\n",
       "      <td>11.000000</td>\n",
       "      <td>0.000000</td>\n",
       "    </tr>\n",
       "    <tr>\n",
       "      <th>75%</th>\n",
       "      <td>75.000000</td>\n",
       "      <td>2.000000</td>\n",
       "      <td>1.000000</td>\n",
       "      <td>96.400000</td>\n",
       "      <td>0.000000</td>\n",
       "      <td>124.000000</td>\n",
       "      <td>1.510000</td>\n",
       "      <td>1.400000</td>\n",
       "      <td>196.000000</td>\n",
       "      <td>129.000000</td>\n",
       "      <td>116.000000</td>\n",
       "      <td>74.000000</td>\n",
       "      <td>12.800000</td>\n",
       "      <td>12.400000</td>\n",
       "      <td>0.000000</td>\n",
       "    </tr>\n",
       "    <tr>\n",
       "      <th>max</th>\n",
       "      <td>124.699630</td>\n",
       "      <td>5.000000</td>\n",
       "      <td>1.000000</td>\n",
       "      <td>186.000000</td>\n",
       "      <td>1.000000</td>\n",
       "      <td>200.000000</td>\n",
       "      <td>11.143450</td>\n",
       "      <td>9.937900</td>\n",
       "      <td>611.000000</td>\n",
       "      <td>288.000000</td>\n",
       "      <td>184.000000</td>\n",
       "      <td>112.000000</td>\n",
       "      <td>17.518794</td>\n",
       "      <td>17.252279</td>\n",
       "      <td>1.000000</td>\n",
       "    </tr>\n",
       "  </tbody>\n",
       "</table>\n",
       "</div>"
      ],
      "text/plain": [
       "                 age      ethnicity         gender         weight  \\\n",
       "count  130157.000000  130157.000000  130157.000000  130157.000000   \n",
       "mean       62.322088       1.960794       0.541823      83.795705   \n",
       "std        16.660000       0.973878       0.498250      24.685131   \n",
       "min         0.000000       0.000000       0.000000      38.600000   \n",
       "25%        53.000000       2.000000       0.000000      67.000000   \n",
       "50%        65.000000       2.000000       1.000000      80.300000   \n",
       "75%        75.000000       2.000000       1.000000      96.400000   \n",
       "max       124.699630       5.000000       1.000000     186.000000   \n",
       "\n",
       "          arf_apache     map_apache  d1_creatinine_max  d1_creatinine_min  \\\n",
       "count  130157.000000  130157.000000      130157.000000      130157.000000   \n",
       "mean        0.027997      87.181062           1.490518           1.363943   \n",
       "std         0.164965      41.851469           1.451990           1.276652   \n",
       "min         0.000000       5.155029           0.312539          -0.018171   \n",
       "25%         0.000000      54.000000           0.780000           0.730000   \n",
       "50%         0.000000      66.000000           1.070000           1.000000   \n",
       "75%         0.000000     124.000000           1.510000           1.400000   \n",
       "max         1.000000     200.000000          11.143450           9.937900   \n",
       "\n",
       "       d1_glucose_max  d1_glucose_min     d1_mbp_max     d1_mbp_min  \\\n",
       "count   130157.000000   130157.000000  130157.000000  130157.000000   \n",
       "mean       173.587577      114.451377     104.224115      64.355650   \n",
       "std         83.971864       37.067942      20.885761      15.414567   \n",
       "min         46.814882       33.000000      60.000000      22.000000   \n",
       "25%        119.000000       92.000000      90.000000      55.000000   \n",
       "50%        152.507134      109.000000     102.000000      64.000000   \n",
       "75%        196.000000      129.000000     116.000000      74.000000   \n",
       "max        611.000000      288.000000     184.000000     112.000000   \n",
       "\n",
       "       d1_hemaglobin_max  d1_hemaglobin_min  diabetes_mellitus  \n",
       "count      130157.000000      130157.000000      130157.000000  \n",
       "mean           11.469323          10.931626           0.216285  \n",
       "std             2.028433           2.208810           0.411712  \n",
       "min             6.495627           5.289099           0.000000  \n",
       "25%            10.100000           9.400000           0.000000  \n",
       "50%            11.464398          11.000000           0.000000  \n",
       "75%            12.800000          12.400000           0.000000  \n",
       "max            17.518794          17.252279           1.000000  "
      ]
     },
     "execution_count": 8,
     "metadata": {},
     "output_type": "execute_result"
    }
   ],
   "source": [
    "df_train.describe()"
   ]
  },
  {
   "cell_type": "code",
   "execution_count": 9,
   "metadata": {},
   "outputs": [
    {
     "name": "stderr",
     "output_type": "stream",
     "text": [
      "D:\\AnaConda\\lib\\site-packages\\ipykernel_launcher.py:12: SettingWithCopyWarning: \n",
      "A value is trying to be set on a copy of a slice from a DataFrame.\n",
      "Try using .loc[row_indexer,col_indexer] = value instead\n",
      "\n",
      "See the caveats in the documentation: http://pandas.pydata.org/pandas-docs/stable/user_guide/indexing.html#returning-a-view-versus-a-copy\n",
      "  if sys.path[0] == '':\n"
     ]
    },
    {
     "data": {
      "text/plain": [
       "<matplotlib.axes._subplots.AxesSubplot at 0x2c548853080>"
      ]
     },
     "execution_count": 9,
     "metadata": {},
     "output_type": "execute_result"
    },
    {
     "data": {
      "image/png": "[encoded data removed]",
      "text/plain": [
       "<Figure size 720x360 with 2 Axes>"
      ]
     },
     "metadata": {
      "needs_background": "light"
     },
     "output_type": "display_data"
    }
   ],
   "source": [
    "## Correlação das variaveis\n",
    "\n",
    "types = df_train.dtypes\n",
    "\n",
    "columns_num = []\n",
    "\n",
    "for col in df_train.columns:\n",
    "    if types[col] == 'float64':\n",
    "        columns_num.append(col)\n",
    "\n",
    "df_train_corr = df_train[columns_num]\n",
    "df_train_corr['diabetes_mellitus'] = df_train['diabetes_mellitus'].copy()\n",
    "\n",
    "\n",
    "corr = df_train_corr.corr()\n",
    "\n",
    "plt.figure(figsize=(10,5))\n",
    "sns.heatmap(corr,annot=False)"
   ]
  },
  {
   "cell_type": "markdown",
   "metadata": {},
   "source": [
    "# Criação de variaveis com valores medios\n",
    "\n",
    "df_train['d1_creatinine_mean'] = (df_train['d1_creatinine_max'] + df_train['d1_creatinine_min'])/2\n",
    "df_train['d1_glucose_mean'] = (df_train['d1_glucose_max'] + df_train['d1_glucose_min']) /2 \n",
    "df_train['d1_hemaglobin_mean'] = (df_train['d1_hemaglobin_max'] + df_train['d1_hemaglobin_min']) / 2\n",
    "df_train['d1_sysbp_mean'] = (df_train['d1_sysbp_max'] + df_train['d1_sysbp_min'])/ 2\n"
   ]
  },
  {
   "cell_type": "markdown",
   "metadata": {},
   "source": [
    "# Removendo colunas\n",
    "\n",
    "colunas_remover = ['d1_creatinine_max','d1_creatinine_min', 'd1_glucose_max', 'd1_glucose_min', \n",
    "                   'd1_hemaglobin_max', 'd1_hemaglobin_min','d1_sysbp_max', 'd1_sysbp_min']\n",
    "\n",
    "df_train.drop(colunas_remover, axis=1, inplace=True)\n",
    "\n",
    "df_train.head()\n",
    "\n"
   ]
  },
  {
   "cell_type": "markdown",
   "metadata": {},
   "source": [
    "## Balanceamento dos dados"
   ]
  },
  {
   "cell_type": "code",
   "execution_count": null,
   "metadata": {},
   "outputs": [],
   "source": [
    "#!pip install lightgbm"
   ]
  },
  {
   "cell_type": "code",
   "execution_count": null,
   "metadata": {},
   "outputs": [],
   "source": [
    "#!pip install xgboost"
   ]
  },
  {
   "cell_type": "code",
   "execution_count": 10,
   "metadata": {},
   "outputs": [],
   "source": [
    "#Importando bibliotecas de pre-processadores, modelo e analise\n",
    "from sklearn.preprocessing import StandardScaler\n",
    "from sklearn.preprocessing import MinMaxScaler\n",
    "from imblearn.over_sampling import SMOTE\n",
    "from imblearn.under_sampling import NearMiss\n",
    "\n",
    "from sklearn.model_selection import GridSearchCV\n",
    "from sklearn.model_selection import cross_val_predict\n",
    "from sklearn.model_selection import train_test_split\n",
    "\n",
    "from lightgbm import LGBMClassifier\n",
    "from xgboost import XGBClassifier\n",
    "#from sklearn.ensemble import RandomForestClassifier\n",
    "\n",
    "from sklearn.metrics import classification_report\n",
    "from sklearn.metrics import confusion_matrix\n",
    "from sklearn.metrics import mean_squared_error\n",
    "from sklearn.metrics import accuracy_score\n",
    "from sklearn.metrics import recall_score\n",
    "from sklearn.metrics import f1_score\n",
    "from sklearn.metrics import roc_auc_score, cohen_kappa_score\n"
   ]
  },
  {
   "cell_type": "code",
   "execution_count": 11,
   "metadata": {},
   "outputs": [
    {
     "data": {
      "text/plain": [
       "0    102006\n",
       "1     28151\n",
       "Name: diabetes_mellitus, dtype: int64"
      ]
     },
     "execution_count": 11,
     "metadata": {},
     "output_type": "execute_result"
    }
   ],
   "source": [
    "df_train.diabetes_mellitus.value_counts()"
   ]
  },
  {
   "cell_type": "code",
   "execution_count": 12,
   "metadata": {},
   "outputs": [
    {
     "data": {
      "image/png": "[encoded data removed]",
      "text/plain": [
       "<Figure size 432x288 with 1 Axes>"
      ]
     },
     "metadata": {
      "needs_background": "light"
     },
     "output_type": "display_data"
    }
   ],
   "source": [
    "ax = sns.countplot(x=\"diabetes_mellitus\", data=df_train)"
   ]
  },
  {
   "cell_type": "code",
   "execution_count": 13,
   "metadata": {},
   "outputs": [],
   "source": [
    "X = df_train.drop('diabetes_mellitus', axis = 1)\n",
    "y = df_train['diabetes_mellitus']"
   ]
  },
  {
   "cell_type": "code",
   "execution_count": 14,
   "metadata": {},
   "outputs": [],
   "source": [
    "# sampling_strategy=0.5, define a quantidade de dados da classe minoritaria\n",
    "smt = SMOTE()"
   ]
  },
  {
   "cell_type": "code",
   "execution_count": 15,
   "metadata": {},
   "outputs": [],
   "source": [
    "X, y = smt.fit_sample(X, y)"
   ]
  },
  {
   "cell_type": "code",
   "execution_count": 16,
   "metadata": {},
   "outputs": [
    {
     "data": {
      "text/plain": [
       "array([102006, 102006], dtype=int64)"
      ]
     },
     "execution_count": 16,
     "metadata": {},
     "output_type": "execute_result"
    }
   ],
   "source": [
    "np.bincount(y)"
   ]
  },
  {
   "cell_type": "code",
   "execution_count": 17,
   "metadata": {},
   "outputs": [
    {
     "data": {
      "image/png": "[encoded data removed]",
      "text/plain": [
       "<Figure size 432x288 with 1 Axes>"
      ]
     },
     "metadata": {
      "needs_background": "light"
     },
     "output_type": "display_data"
    }
   ],
   "source": [
    "ax = sns.countplot(x=y)"
   ]
  },
  {
   "cell_type": "code",
   "execution_count": 18,
   "metadata": {},
   "outputs": [],
   "source": [
    "#Separando dados em treino e teste\n",
    "X_train, X_test, y_train, y_test = train_test_split(X, y, random_state=1, stratify=y)"
   ]
  },
  {
   "cell_type": "markdown",
   "metadata": {},
   "source": [
    "# Scala os dados de treino e teste. Não melhorou resultado do modelo\n",
    "scaler = StandardScaler().fit(X_train)\n",
    "X_train = scaler.transform(X_train)\n",
    "\n",
    "scaler2 = StandardScaler().fit(X_test)\n",
    "X_test = scaler2.transform(X_test)"
   ]
  },
  {
   "cell_type": "code",
   "execution_count": null,
   "metadata": {},
   "outputs": [],
   "source": [
    "clf = LGBMClassifier()"
   ]
  },
  {
   "cell_type": "code",
   "execution_count": null,
   "metadata": {},
   "outputs": [],
   "source": [
    "# Valores testados: learning rate a 0,08 deu overfitting\n",
    "# 'learning_rate':[0.01, 0.03, 0,05, 0.07, 0.08], 'n_estimators':[0, 100, 150] ,\n",
    "# 'boosting_type':['gbdt', 'rf','dart'], 'max_depth':[20, 50, 100],'num_leaves':[50, 80, 100, 120, 130]\n",
    "# 'min_split_gain':[0, 1, 2]\n",
    "\n",
    "params = {'learning_rate':[0.01], 'n_estimators':[50] , \n",
    "          'boosting_type':['gbdt', 'rf','dart'], 'max_depth':[22], 'num_leaves':[220]}"
   ]
  },
  {
   "cell_type": "code",
   "execution_count": null,
   "metadata": {},
   "outputs": [],
   "source": [
    "grid = GridSearchCV(clf, param_grid=params, cv=10, n_jobs=-1, return_train_score=True)\n",
    "grid.fit(X_train, y_train)"
   ]
  },
  {
   "cell_type": "code",
   "execution_count": null,
   "metadata": {},
   "outputs": [],
   "source": [
    "grid.best_estimator_"
   ]
  },
  {
   "cell_type": "code",
   "execution_count": null,
   "metadata": {},
   "outputs": [],
   "source": [
    "grid.best_score_"
   ]
  },
  {
   "cell_type": "code",
   "execution_count": null,
   "metadata": {},
   "outputs": [],
   "source": [
    "pred = grid.predict(X_test)"
   ]
  },
  {
   "cell_type": "code",
   "execution_count": null,
   "metadata": {},
   "outputs": [],
   "source": [
    "print(confusion_matrix(y_test,pred))\n",
    "\n",
    "print('\\nMSE: ' + str(mean_squared_error(y_test,pred)))\n",
    "print('Accuracy: ' + str(accuracy_score(y_test,pred)))\n",
    "print('Recall: ' + str(recall_score(y_test,pred)))\n",
    "print('F1-Score: ' + str(f1_score(y_test,pred)))\n",
    "\n",
    "print('AUC: ' + str(roc_auc_score(y_test,pred)))\n",
    "print('Cohen-Kappa: ' + str(cohen_kappa_score(y_test,pred)))\n"
   ]
  },
  {
   "cell_type": "code",
   "execution_count": 19,
   "metadata": {},
   "outputs": [],
   "source": [
    "clf2 = XGBClassifier()"
   ]
  },
  {
   "cell_type": "code",
   "execution_count": 22,
   "metadata": {},
   "outputs": [],
   "source": [
    "# Valores testados: RandomFlorest\n",
    "# 'n_estimators':[50, 100, 150] , 'criterion': ['gini','entropy'], \n",
    "# 'max_depth': [20, 50, 100], 'min_samples_split': [2, 5, 10, 15], 'min_samples_leaf':[5, 10, 15]\n",
    "\n",
    "# XGBG\n",
    "# 'learning_rate':[0.01, 0.03, 0.05], 'n_estimators':[100, 150] ,\n",
    "#          'max_depth':[20, 50, 100],'min_child_weight':[0, 1, 2]\n",
    "\n",
    "\n",
    "params2 = {'learning_rate':[0.05], 'n_estimators':[150] ,\n",
    "          'max_depth':[100],'min_child_weight':[2]}"
   ]
  },
  {
   "cell_type": "code",
   "execution_count": null,
   "metadata": {},
   "outputs": [],
   "source": [
    "grid2 = GridSearchCV(clf2, param_grid=params2, cv=5, n_jobs=-1, return_train_score=True)\n",
    "grid2.fit(X_train, y_train)"
   ]
  },
  {
   "cell_type": "code",
   "execution_count": null,
   "metadata": {},
   "outputs": [],
   "source": [
    "grid2.best_estimator_"
   ]
  },
  {
   "cell_type": "code",
   "execution_count": null,
   "metadata": {},
   "outputs": [],
   "source": [
    "grid2.best_score_"
   ]
  },
  {
   "cell_type": "code",
   "execution_count": null,
   "metadata": {},
   "outputs": [],
   "source": [
    "pred2 = grid2.predict(X_test)"
   ]
  },
  {
   "cell_type": "code",
   "execution_count": null,
   "metadata": {},
   "outputs": [],
   "source": [
    "print(confusion_matrix(y_test,pred2))\n",
    "\n",
    "print('\\nMSE: ' + str(mean_squared_error(y_test,pred2)))\n",
    "print('Accuracy: ' + str(accuracy_score(y_test,pred2)))\n",
    "print('Recall: ' + str(recall_score(y_test,pred2)))\n",
    "print('F1-Score: ' + str(f1_score(y_test,pred2)))\n",
    "\n",
    "print('AUC: ' + str(roc_auc_score(y_test,pred2)))\n",
    "print('Cohen-Kappa: ' + str(cohen_kappa_score(y_test,pred2)))"
   ]
  },
  {
   "cell_type": "markdown",
   "metadata": {},
   "source": [
    "## Predição"
   ]
  },
  {
   "cell_type": "code",
   "execution_count": null,
   "metadata": {},
   "outputs": [],
   "source": [
    "df_pred = pd.read_parquet('test.parquet', engine='pyarrow')\n",
    "df_pred.shape"
   ]
  },
  {
   "cell_type": "code",
   "execution_count": null,
   "metadata": {},
   "outputs": [],
   "source": [
    "colunas_pred = X.columns.tolist()"
   ]
  },
  {
   "cell_type": "code",
   "execution_count": null,
   "metadata": {},
   "outputs": [],
   "source": [
    "X_pred = df_pred[colunas_pred]\n",
    "X_pred.shape"
   ]
  },
  {
   "cell_type": "code",
   "execution_count": null,
   "metadata": {},
   "outputs": [],
   "source": [
    "X_pred.count()"
   ]
  },
  {
   "cell_type": "code",
   "execution_count": null,
   "metadata": {},
   "outputs": [],
   "source": [
    "X_pred.head(10)"
   ]
  },
  {
   "cell_type": "code",
   "execution_count": null,
   "metadata": {},
   "outputs": [],
   "source": [
    "predito = grid.predict(X_pred)"
   ]
  },
  {
   "cell_type": "code",
   "execution_count": null,
   "metadata": {},
   "outputs": [],
   "source": [
    "df_pred['diabetes_mellitus'] = predito\n",
    "\n",
    "df_pred.head()"
   ]
  },
  {
   "cell_type": "code",
   "execution_count": null,
   "metadata": {},
   "outputs": [],
   "source": [
    "df_submission = df_pred[['encounter_id','diabetes_mellitus']]\n",
    "\n",
    "df_submission.head()"
   ]
  },
  {
   "cell_type": "code",
   "execution_count": null,
   "metadata": {},
   "outputs": [],
   "source": [
    "print((df_submission['diabetes_mellitus']==0).sum())\n",
    "print((df_submission['diabetes_mellitus']==1).sum())"
   ]
  },
  {
   "cell_type": "code",
   "execution_count": null,
   "metadata": {},
   "outputs": [],
   "source": [
    "df_submission.to_csv('wids2021_submission.csv',header=True,index=False)"
   ]
  },
  {
   "cell_type": "code",
   "execution_count": null,
   "metadata": {},
   "outputs": [],
   "source": []
  }
 ],
 "metadata": {
  "kernelspec": {
   "display_name": "Python 3",
   "language": "python",
   "name": "python3"
  },
  "language_info": {
   "codemirror_mode": {
    "name": "ipython",
    "version": 3
   },
   "file_extension": ".py",
   "mimetype": "text/x-python",
   "name": "python",
   "nbconvert_exporter": "python",
   "pygments_lexer": "ipython3",
   "version": "3.8.5"
  }
 },
 "nbformat": 4,
 "nbformat_minor": 2
}
